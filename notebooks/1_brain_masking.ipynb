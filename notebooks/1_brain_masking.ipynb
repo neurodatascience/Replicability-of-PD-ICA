{
 "metadata": {
  "language_info": {
   "codemirror_mode": {
    "name": "ipython",
    "version": 3
   },
   "file_extension": ".py",
   "mimetype": "text/x-python",
   "name": "python",
   "nbconvert_exporter": "python",
   "pygments_lexer": "ipython3",
   "version": "3.7.9-final"
  },
  "orig_nbformat": 2,
  "kernelspec": {
   "name": "python3",
   "display_name": "Python 3",
   "language": "python"
  }
 },
 "nbformat": 4,
 "nbformat_minor": 2,
 "cells": [
  {
   "source": [
    "# Code to mask nifti images\n",
    "- Uses preproc images and brain masks from fMRIPrep"
   ],
   "cell_type": "markdown",
   "metadata": {}
  },
  {
   "cell_type": "code",
   "execution_count": 2,
   "metadata": {},
   "outputs": [],
   "source": [
    "import nibabel as nib\n",
    "import glob\n",
    "import os\n",
    "import sys\n",
    "\n",
    "sys.path.append('../')\n",
    "from lib.io_utils import *"
   ]
  },
  {
   "source": [
    "### Paths"
   ],
   "cell_type": "markdown",
   "metadata": {}
  },
  {
   "cell_type": "code",
   "execution_count": 10,
   "metadata": {},
   "outputs": [],
   "source": [
    "project_dir = '../../../'\n",
    "data_dir = project_dir + 'data/preproc_T1s/PD/'\n",
    "img_dir = data_dir +'images/'\n",
    "mask_dir = data_dir + 'masks/'\n",
    "masked_img_dir = data_dir + 'masked_images/'"
   ]
  },
  {
   "source": [
    "### Apply brain mask to all images"
   ],
   "cell_type": "markdown",
   "metadata": {}
  },
  {
   "cell_type": "code",
   "execution_count": 13,
   "metadata": {},
   "outputs": [
    {
     "output_type": "stream",
     "name": "stdout",
     "text": [
      "Subject name: sub-0103_ses-1_run-1_desc\n"
     ]
    }
   ],
   "source": [
    "img_paths = os.listdir(img_dir)\n",
    "\n",
    "for img_path in img_paths:\n",
    "    sub_name = img_path.rsplit('-',1)[0]\n",
    "    print('Subject name: {}'.format(sub_name))\n",
    "    img_path = img_dir + sub_name + '-preproc_T1w.nii.gz'\n",
    "    mask_path = mask_dir + sub_name + '-brain_mask.nii.gz' \n",
    "    masked_img_path = masked_img_dir + sub_name + '-masked_preproc_T1w.nii.gz'\n",
    "\n",
    "    get_masked_image(img_path, mask_path, masked_img_path)"
   ]
  },
  {
   "cell_type": "code",
   "execution_count": 14,
   "metadata": {},
   "outputs": [
    {
     "output_type": "stream",
     "name": "stdout",
     "text": [
      "<class 'nibabel.nifti1.Nifti1Header'> object, endian='<'\nsizeof_hdr      : 348\ndata_type       : b''\ndb_name         : b''\nextents         : 0\nsession_error   : 0\nregular         : b'r'\ndim_info        : 54\ndim             : [  3 176 256 256   1   1   1   1]\nintent_p1       : 0.0\nintent_p2       : 0.0\nintent_p3       : 0.0\nintent_code     : none\ndatatype        : int16\nbitpix          : 16\nslice_start     : 0\npixdim          : [1.  1.  1.  1.  2.3 0.  0.  0. ]\nvox_offset      : 0.0\nscl_slope       : nan\nscl_inter       : nan\nslice_end       : 0\nslice_code      : unknown\nxyzt_units      : 2\ncal_max         : 0.0\ncal_min         : 0.0\nslice_duration  : 0.0\ntoffset         : 0.0\nglmax           : 0\nglmin           : 0\ndescrip         : b'xform matrices modified by CopyXForm (niworkflows v1.3.1).'\naux_file        : b''\nqform_code      : scanner\nsform_code      : scanner\nquatern_b       : 0.0\nquatern_c       : 0.0\nquatern_d       : 0.0\nqoffset_x       : -84.507805\nqoffset_y       : -106.982635\nqoffset_z       : -127.0\nsrow_x          : [  1.         0.         0.       -84.507805]\nsrow_y          : [   0.          1.          0.       -106.982635]\nsrow_z          : [   0.    0.    1. -127.]\nintent_name     : b''\nmagic           : b'n+1'\n"
     ]
    }
   ],
   "source": [
    "zmap = nib.load(img_path)\n",
    "print(zmap.header)"
   ]
  },
  {
   "cell_type": "code",
   "execution_count": null,
   "metadata": {},
   "outputs": [],
   "source": []
  }
 ]
}